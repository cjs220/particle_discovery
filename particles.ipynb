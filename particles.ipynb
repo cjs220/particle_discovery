{
 "cells": [
  {
   "cell_type": "code",
   "execution_count": 1,
   "metadata": {},
   "outputs": [],
   "source": [
    "import numpy as np\n",
    "import pandas as pd\n",
    "import matplotlib.pyplot as plt\n",
    "%matplotlib inline\n",
    "\n",
    "from data_generators import *"
   ]
  },
  {
   "cell_type": "markdown",
   "metadata": {},
   "source": [
    "## 1 Higgs boson discovery\n",
    "In a particle physics experiment, we measure 3 quantities for events whose final state particles are two photons ($\\gamma \\gamma$). According to the Standard Model (SM) These events will include some signal events from a Higgs decay $H \\rightarrow \\gamma \\gamma$, but also many background events from other processes whose final state is $\\gamma \\gamma$.\n",
    "\n",
    "The three observables we measure are:\n",
    "* $E_T$: the transverse energy of the leading jet.\n",
    "* $m_{\\gamma \\gamma}$: the invariant mass of the two final state photons.\n",
    "* $\\Delta \\phi _{jj}$: the angular separation between the two leading jets. \n",
    "\n",
    "\n",
    "We simulate data according to two hypotheses:\n",
    "1. $H_0$: the background-only hypothesis, i.e. the SM without a Higgs boson present.\n",
    "2. $H_1$: the signal hypothesis, i.e. the full SM."
   ]
  },
  {
   "cell_type": "code",
   "execution_count": 2,
   "metadata": {},
   "outputs": [
    {
     "name": "stdout",
     "output_type": "stream",
     "text": [
      "100000/1000000 samples completed\n",
      "200000/1000000 samples completed\n",
      "300000/1000000 samples completed\n",
      "400000/1000000 samples completed\n",
      "500000/1000000 samples completed\n",
      "600000/1000000 samples completed\n",
      "700000/1000000 samples completed\n",
      "800000/1000000 samples completed\n",
      "900000/1000000 samples completed\n",
      "1000000/1000000 samples completed\n",
      "100000/1000000 samples completed\n",
      "200000/1000000 samples completed\n",
      "300000/1000000 samples completed\n",
      "400000/1000000 samples completed\n",
      "500000/1000000 samples completed\n",
      "600000/1000000 samples completed\n",
      "700000/1000000 samples completed\n",
      "800000/1000000 samples completed\n",
      "900000/1000000 samples completed\n",
      "1000000/1000000 samples completed\n"
     ]
    },
    {
     "data": {
      "text/html": [
       "<div>\n",
       "<style scoped>\n",
       "    .dataframe tbody tr th:only-of-type {\n",
       "        vertical-align: middle;\n",
       "    }\n",
       "\n",
       "    .dataframe tbody tr th {\n",
       "        vertical-align: top;\n",
       "    }\n",
       "\n",
       "    .dataframe thead th {\n",
       "        text-align: right;\n",
       "    }\n",
       "</style>\n",
       "<table border=\"1\" class=\"dataframe\">\n",
       "  <thead>\n",
       "    <tr style=\"text-align: right;\">\n",
       "      <th></th>\n",
       "      <th>E_t</th>\n",
       "      <th>delta_phi</th>\n",
       "      <th>m_jj</th>\n",
       "      <th>signal</th>\n",
       "    </tr>\n",
       "  </thead>\n",
       "  <tbody>\n",
       "    <tr>\n",
       "      <th>0</th>\n",
       "      <td>190.029709</td>\n",
       "      <td>2.536840</td>\n",
       "      <td>114.722801</td>\n",
       "      <td>0.0</td>\n",
       "    </tr>\n",
       "    <tr>\n",
       "      <th>1</th>\n",
       "      <td>88.709953</td>\n",
       "      <td>-2.994462</td>\n",
       "      <td>143.904297</td>\n",
       "      <td>0.0</td>\n",
       "    </tr>\n",
       "    <tr>\n",
       "      <th>2</th>\n",
       "      <td>163.158768</td>\n",
       "      <td>2.389598</td>\n",
       "      <td>124.822952</td>\n",
       "      <td>0.0</td>\n",
       "    </tr>\n",
       "    <tr>\n",
       "      <th>3</th>\n",
       "      <td>141.748352</td>\n",
       "      <td>0.608726</td>\n",
       "      <td>98.731621</td>\n",
       "      <td>0.0</td>\n",
       "    </tr>\n",
       "    <tr>\n",
       "      <th>4</th>\n",
       "      <td>98.923454</td>\n",
       "      <td>-0.131365</td>\n",
       "      <td>142.052475</td>\n",
       "      <td>0.0</td>\n",
       "    </tr>\n",
       "  </tbody>\n",
       "</table>\n",
       "</div>"
      ],
      "text/plain": [
       "          E_t  delta_phi        m_jj  signal\n",
       "0  190.029709   2.536840  114.722801     0.0\n",
       "1   88.709953  -2.994462  143.904297     0.0\n",
       "2  163.158768   2.389598  124.822952     0.0\n",
       "3  141.748352   0.608726   98.731621     0.0\n",
       "4   98.923454  -0.131365  142.052475     0.0"
      ]
     },
     "execution_count": 2,
     "metadata": {},
     "output_type": "execute_result"
    }
   ],
   "source": [
    "sm_background = StandardModelBackgroundGenerator()\n",
    "sm_signal = StandardModelSignalGenerator()\n",
    "\n",
    "n_data_sim = int(1e6)\n",
    "\n",
    "h_0_simulated_data = generate_data(n=n_data_sim, background_generator=sm_background, signal_generator=sm_signal,\n",
    "                                  signal_prob=0)\n",
    "h_1_simulated_data = generate_data(n=n_data_sim, background_generator=sm_background, signal_generator=sm_signal)\n",
    "h_1_simulated_data.head()"
   ]
  },
  {
   "cell_type": "code",
   "execution_count": 30,
   "metadata": {},
   "outputs": [
    {
     "name": "stdout",
     "output_type": "stream",
     "text": [
      "10000/100000 samples completed\n",
      "20000/100000 samples completed\n",
      "30000/100000 samples completed\n",
      "40000/100000 samples completed\n",
      "50000/100000 samples completed\n",
      "60000/100000 samples completed\n",
      "70000/100000 samples completed\n",
      "80000/100000 samples completed\n",
      "90000/100000 samples completed\n",
      "100000/100000 samples completed\n"
     ]
    }
   ],
   "source": [
    "n_data_ex = int(1e5)\n",
    "experimental_data = generate_data(n=n_data_ex, background_generator=sm_background, signal_generator=sm_signal,\n",
    "                                 signal_prob=0.0065)"
   ]
  },
  {
   "cell_type": "markdown",
   "metadata": {},
   "source": [
    "We know from theory that the number of Higgs boson events is expected to experience a bump in events at $m_{\\gamma\\gamma} \\approx m_H \\approx 125$ GeV. To analyse the data, we group the data into bins in $m_{\\gamma \\gamma}$ of size 1 GeV, and plot the predictions of $H_0$ and $H_1$ alongside the experimental values."
   ]
  },
  {
   "cell_type": "code",
   "execution_count": 41,
   "metadata": {},
   "outputs": [
    {
     "data": {
      "text/plain": [
       "<matplotlib.legend.Legend at 0x7f2985ccde10>"
      ]
     },
     "execution_count": 41,
     "metadata": {},
     "output_type": "execute_result"
    },
    {
     "data": {
      "image/png": "[encoded data removed]",
      "text/plain": [
       "<Figure size 432x288 with 1 Axes>"
      ]
     },
     "metadata": {
      "needs_background": "light"
     },
     "output_type": "display_data"
    }
   ],
   "source": [
    "def get_bin_fractions(series):\n",
    "    series_hist = series.round().value_counts().sort_index()\n",
    "    return series_hist/series_hist.sum()\n",
    "\n",
    "h_0_sim_hist = get_bin_fractions(h_0_simulated_data['m_jj'])\n",
    "h_1_sim_hist = get_bin_fractions(h_1_simulated_data['m_jj'])\n",
    "ex_hist = get_bin_fractions(experimental_data['m_jj']) \n",
    "h_1_sim_hist.plot(label='Signal + Background', xlim=[60, 190])\n",
    "h_0_sim_hist.plot(label='Background')\n",
    "plt.plot(ex_hist.index, ex_hist.values, 'x', label='Experimental')\n",
    "plt.xlabel('$m_{\\gamma \\gamma}$ / GeV', fontsize=20)\n",
    "plt.ylabel('Bin fraction', fontsize=18)\n",
    "plt.legend()"
   ]
  },
  {
   "cell_type": "markdown",
   "metadata": {},
   "source": [
    "This certainly looks like we have a Higgs boson, but with what statistical significance could we make that statement? In a real experiment we would perform a rigorous statistical test, but for our purposes it is sufficient to use the approximation\n",
    "\n",
    "$$ z \\approx \\frac{S}{\\sqrt{B}} \\, ,$$\n",
    "\n",
    "where $S$ is the number of signal events and $B$ is the number of background events (in reality we would not have access to these numbers for experimental data, but we have actually simulated our 'experimental' data).\n",
    "\n",
    "The significance $z$ is related to the $p$-value by\n",
    "\n",
    "$$ p = \\Phi (z) \\, ,$$\n",
    "\n",
    "where $\\Phi$ is the cumulative distribution function of the standard Gaussian."
   ]
  },
  {
   "cell_type": "code",
   "execution_count": 43,
   "metadata": {},
   "outputs": [
    {
     "name": "stdout",
     "output_type": "stream",
     "text": [
      "z = 4.38\n"
     ]
    }
   ],
   "source": [
    "def estimate_significance(data):\n",
    "    return (data['signal'].sum())/np.sqrt(data['signal'].count())\n",
    "\n",
    "\n",
    "print('z = {:.2f}'.format(estimate_significance(experimental_data)))"
   ]
  },
  {
   "cell_type": "markdown",
   "metadata": {},
   "source": [
    "So we have a result that is slightly below the significance required to claim discovery in particle physics ($z=5$). In order to better isolate our signal, we need to perform cuts on the data, which means placing restrictions on the observables. To inform us about which cuts to make, we can plot the distribution of $E_T$ for the signal events in our simulated data."
   ]
  },
  {
   "cell_type": "code",
   "execution_count": 35,
   "metadata": {},
   "outputs": [
    {
     "data": {
      "image/png": "[encoded data removed]",
      "text/plain": [
       "<Figure size 432x288 with 1 Axes>"
      ]
     },
     "metadata": {
      "needs_background": "light"
     },
     "output_type": "display_data"
    }
   ],
   "source": [
    "h_1_signal_data = h_1_simulated_data[h_1_simulated_data['signal'] == 1]\n",
    "\n",
    "h_1_signal_data['E_t'].plot.hist()\n",
    "plt.xlabel('$E_T$', fontsize=20)\n",
    "plt.ylabel('Counts', fontsize=18)\n",
    "plt.show()"
   ]
  },
  {
   "cell_type": "code",
   "execution_count": null,
   "metadata": {},
   "outputs": [],
   "source": []
  },
  {
   "cell_type": "code",
   "execution_count": 36,
   "metadata": {},
   "outputs": [
    {
     "data": {
      "text/plain": [
       "5.036758292414559"
      ]
     },
     "execution_count": 36,
     "metadata": {},
     "output_type": "execute_result"
    }
   ],
   "source": [
    "cut_data = experimental_data[experimental_data['E_t'] > 50]\n",
    "estimate_significance(cut_data)"
   ]
  },
  {
   "cell_type": "code",
   "execution_count": null,
   "metadata": {},
   "outputs": [],
   "source": []
  }
 ],
 "metadata": {
  "kernelspec": {
   "display_name": "Python 3",
   "language": "python",
   "name": "python3"
  },
  "language_info": {
   "codemirror_mode": {
    "name": "ipython",
    "version": 3
   },
   "file_extension": ".py",
   "mimetype": "text/x-python",
   "name": "python",
   "nbconvert_exporter": "python",
   "pygments_lexer": "ipython3",
   "version": "3.7.6"
  }
 },
 "nbformat": 4,
 "nbformat_minor": 2
}
