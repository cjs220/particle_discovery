{
 "cells": [
  {
   "cell_type": "code",
   "execution_count": 1,
   "metadata": {},
   "outputs": [],
   "source": [
    "import numpy as np\n",
    "import pandas as pd\n",
    "import matplotlib.pyplot as plt\n",
    "%matplotlib inline\n",
    "\n",
    "from data_generators import *"
   ]
  },
  {
   "cell_type": "markdown",
   "metadata": {},
   "source": [
    "## 1 Higgs boson discovery\n",
    "In a particle physics experiment, we measure 3 quantities for events whose final state particles are two photons ($\\gamma \\gamma$). According to the Standard Model (SM) These events will include some signal events from a Higgs decay $H \\rightarrow \\gamma \\gamma$, but also many background events from other processes whose final state is $\\gamma \\gamma$.\n",
    "\n",
    "The three observables we measure are:\n",
    "* $E_T$: the transverse energy of the leading jet.\n",
    "* $m_{\\gamma \\gamma}$: the invariant mass of the two final state photons.\n",
    "* $\\Delta \\phi _{jj}$: the angular separation between the two leading jets. \n",
    "\n",
    "\n",
    "We simulate data according to two hypotheses:\n",
    "1. $H_0$: the background-only hypothesis, i.e. the SM without a Higgs boson present.\n",
    "2. $H_1$: the signal hypothesis, i.e. the full SM."
   ]
  },
  {
   "cell_type": "code",
   "execution_count": null,
   "metadata": {},
   "outputs": [],
   "source": [
    "sm_background = StandardModelBackgroundGenerator()\n",
    "sm_signal = StandardModelSignalGenerator()\n",
    "\n",
    "n_data_sim = int(1e6)\n",
    "\n",
    "h_0_simulated_data = generate_data(n=n_data_sim, background_generator=sm_background, signal_generator=sm_signal,\n",
    "                                  signal_prob=0)\n",
    "h_1_simulated_data = generate_data(n=n_data_sim, background_generator=sm_background, signal_generator=sm_signal)"
   ]
  },
  {
   "cell_type": "code",
   "execution_count": null,
   "metadata": {},
   "outputs": [],
   "source": [
    "n_data_ex = int(1e5)\n",
    "experimental_data = generate_data(n=n_data_ex, background_generator=sm_background, signal_generator=sm_signal)\n",
    "experimental_data.head()"
   ]
  },
  {
   "cell_type": "markdown",
   "metadata": {},
   "source": [
    "This is roughly what experimental data would like, after a few pre-processing steps (detector simulation and particle reconstruction), of course except for the column indicating whether an event was a signal event, which we would not know from experiment (we know it in this case because our experimental data is actually simulated). \n",
    "\n",
    "We know from theory that the number of Higgs boson events is expected to experience a bump in events at $m_{\\gamma\\gamma} \\approx m_H \\approx 125$ GeV. To analyse the data, we group the data into bins in $m_{\\gamma \\gamma}$ of size 1 GeV, and plot the predictions of $H_0$ and $H_1$ alongside the experimental values."
   ]
  },
  {
   "cell_type": "code",
   "execution_count": null,
   "metadata": {},
   "outputs": [],
   "source": [
    "def get_bin_fractions(series):\n",
    "    series_hist = series.round().value_counts().sort_index()\n",
    "    return series_hist/series_hist.sum()\n",
    "\n",
    "h_0_sim_hist = get_bin_fractions(h_0_simulated_data['m_jj'])\n",
    "h_1_sim_hist = get_bin_fractions(h_1_simulated_data['m_jj'])\n",
    "ex_hist = get_bin_fractions(experimental_data['m_jj']) \n",
    "h_1_sim_hist.plot(label='Signal + Background', xlim=[60, 190])\n",
    "h_0_sim_hist.plot(label='Background')\n",
    "plt.plot(ex_hist.index, ex_hist.values, 'x', label='Experimental')\n",
    "plt.xlabel('$m_{\\gamma \\gamma}$ / GeV', fontsize=20)\n",
    "plt.ylabel('Bin fraction', fontsize=18)\n",
    "plt.legend()"
   ]
  },
  {
   "cell_type": "markdown",
   "metadata": {},
   "source": [
    "This certainly looks like we have a Higgs boson, but with what statistical significance could we make that statement? In a real experiment we would perform a rigorous statistical test, but for our purposes it is sufficient to use the approximation\n",
    "\n",
    "$$ z \\approx \\frac{S}{\\sqrt{B}} \\, ,$$\n",
    "\n",
    "where $S$ is the number of signal events and $B$ is the number of background events (in reality we would not have access to these numbers for experimental data, but we have actually simulated our 'experimental' data).\n",
    "\n",
    "The significance $z$ is related to the $p$-value by\n",
    "\n",
    "$$ p = \\Phi (z) \\, ,$$\n",
    "\n",
    "where $\\Phi$ is the cumulative distribution function of the standard Gaussian."
   ]
  },
  {
   "cell_type": "code",
   "execution_count": null,
   "metadata": {},
   "outputs": [],
   "source": [
    "def estimate_significance(data):\n",
    "    return (data['signal'].sum())/np.sqrt(data['signal'].count())\n",
    "\n",
    "\n",
    "print('z = {:.2f}'.format(estimate_significance(experimental_data)))"
   ]
  },
  {
   "cell_type": "markdown",
   "metadata": {},
   "source": [
    "So we have a result that is slightly below the significance required to claim discovery in particle physics ($z=5$). In order to better isolate our signal, we need to perform cuts on the data, which means placing restrictions on the observables. To inform us about which cuts to make, we can plot the distribution of $E_T$ for the signal events in our simulated data."
   ]
  },
  {
   "cell_type": "code",
   "execution_count": null,
   "metadata": {},
   "outputs": [],
   "source": [
    "h_1_signal_data = h_1_simulated_data[h_1_simulated_data['signal'] == 1]\n",
    "\n",
    "h_1_signal_data['E_t'].plot.hist()\n",
    "plt.xlabel('$E_T$', fontsize=20)\n",
    "plt.ylabel('Counts', fontsize=18)\n",
    "plt.show()"
   ]
  },
  {
   "cell_type": "markdown",
   "metadata": {},
   "source": [
    "So it appears that signal events (according to our simulation) tend to have higher values of $E_T$, so it makes sense to use a cut enforcing this such as\n",
    "\n",
    "$$ E_T > 100 \\text{ GeV} \\, .$$"
   ]
  },
  {
   "cell_type": "code",
   "execution_count": null,
   "metadata": {},
   "outputs": [],
   "source": [
    "cut_data = experimental_data[experimental_data['E_t'] > 100]\n",
    "estimate_significance(cut_data)"
   ]
  },
  {
   "cell_type": "markdown",
   "metadata": {},
   "source": [
    "Thus we now have the significance level required to claim the discovery of a Higgs boson.\n",
    "\n",
    "\n",
    "## 2 Measurement of Higgs boson properties\n",
    "A [2018 experimental paper](https://arxiv.org/abs/1802.04146) from the ATLAS collaboration attempted to measure the Higgs boson properties through the above-mentioned decay channel. The authors noted that the absolute vaue of $\\Delta \\phi _{jj}$ was sensitive to some proposed new physics (namely CP violating Higgs interactions). \n",
    "\n",
    "By this they meant that the SM and this new, beyond the Standard Model (BSM) physics predict different distributions of $|\\Delta \\phi _{jj}|$ in the data:"
   ]
  },
  {
   "cell_type": "code",
   "execution_count": null,
   "metadata": {},
   "outputs": [],
   "source": [
    "n_data = int(1e5)\n",
    "signal_prob = 1  # artificially increase signal probability so we don't have to make cuts again\n",
    "bsm_generator = BSMSignalGenerator()\n",
    "\n",
    "sm_data = generate_data(n_data, sm_background, sm_signal, signal_prob=signal_prob)\n",
    "bsm_data = generate_data(n_data, sm_background, bsm_generator, signal_prob=signal_prob)"
   ]
  },
  {
   "cell_type": "code",
   "execution_count": null,
   "metadata": {},
   "outputs": [],
   "source": [
    "delta_phi_data = pd.concat([sm_data['delta_phi'], bsm_data['delta_phi']], axis=1)\n",
    "delta_phi_data.columns = ['SM', 'BSM']\n",
    "delta_phi_data.abs().plot.hist(alpha=0.5)\n",
    "plt.xlabel('$|\\Delta \\phi _{jj}|$', fontsize=20)\n",
    "plt.legend(loc='lower left')\n",
    "plt.show()"
   ]
  },
  {
   "cell_type": "markdown",
   "metadata": {},
   "source": [
    "They constructed an observable based on this expected difference in the distributions, When they evaluated it on the collected data, they found no contributions of any significance ($z \\approx 0$).\n",
    "\n",
    "However, a [phenomonology paper in 2019](https://arxiv.org/abs/1808.06577) realised that taking the distribution signed version of $\\Delta \\phi _{jj}$, i.e. without taking the absolute value, proved much more sensitive to the new physics:"
   ]
  },
  {
   "cell_type": "code",
   "execution_count": null,
   "metadata": {},
   "outputs": [],
   "source": [
    "delta_phi_data.plot.hist(alpha=0.5)\n",
    "plt.xlabel('$\\Delta \\phi _{jj}$', fontsize=20)\n",
    "plt.legend(loc='lower left')\n",
    "plt.show()"
   ]
  },
  {
   "cell_type": "markdown",
   "metadata": {},
   "source": [
    "This unsigned distribution is much more sensitive to our new physics, as we can construct an observable $A$ that measures the asymmetry of the data in $\\Delta \\phi _{jj}$:\n",
    "\n",
    "$$ A = \\frac{\\text{count}(\\Delta \\phi _{jj} > 0) - \\text{count}(\\Delta \\phi _{jj} < 0) }{\\text{total count}} \\, .$$\n",
    "\n",
    "\n",
    "The authors evaluated this observable on the data collected in 2018, and small asymmetry $A=0.3\\pm 0.2$ (while the null hypothesis would predict a value of 0). This corresponds to a significance of about $z=1.5$, suggesting further work should be done to investigate this possible new physics. It also allowed them to place more restrictive confidence intervals on the parameters of the new physics than the analysis performed in 2018.\n",
    "\n"
   ]
  }
 ],
 "metadata": {
  "kernelspec": {
   "display_name": "Python 3",
   "language": "python",
   "name": "python3"
  },
  "language_info": {
   "codemirror_mode": {
    "name": "ipython",
    "version": 3
   },
   "file_extension": ".py",
   "mimetype": "text/x-python",
   "name": "python",
   "nbconvert_exporter": "python",
   "pygments_lexer": "ipython3",
   "version": "3.7.4"
  }
 },
 "nbformat": 4,
 "nbformat_minor": 2
}
